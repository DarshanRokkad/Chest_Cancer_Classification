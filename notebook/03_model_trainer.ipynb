{
 "cells": [
  {
   "cell_type": "markdown",
   "metadata": {},
   "source": [
    "# <font color = 'orange'> Model Trainer"
   ]
  },
  {
   "cell_type": "markdown",
   "metadata": {},
   "source": [
    "---"
   ]
  },
  {
   "cell_type": "code",
   "execution_count": 1,
   "metadata": {},
   "outputs": [],
   "source": [
    "import os"
   ]
  },
  {
   "cell_type": "code",
   "execution_count": 2,
   "metadata": {},
   "outputs": [
    {
     "data": {
      "text/plain": [
       "'e:\\\\PW Skills - Data Science\\\\Projects\\\\09_Chest_Cancer_Classification\\\\notebook'"
      ]
     },
     "execution_count": 2,
     "metadata": {},
     "output_type": "execute_result"
    }
   ],
   "source": [
    "%pwd"
   ]
  },
  {
   "cell_type": "code",
   "execution_count": 3,
   "metadata": {},
   "outputs": [],
   "source": [
    "os.chdir('../')"
   ]
  },
  {
   "cell_type": "code",
   "execution_count": 4,
   "metadata": {},
   "outputs": [
    {
     "data": {
      "text/plain": [
       "'e:\\\\PW Skills - Data Science\\\\Projects\\\\09_Chest_Cancer_Classification'"
      ]
     },
     "execution_count": 4,
     "metadata": {},
     "output_type": "execute_result"
    }
   ],
   "source": [
    "%pwd"
   ]
  },
  {
   "cell_type": "markdown",
   "metadata": {},
   "source": [
    "---"
   ]
  },
  {
   "cell_type": "code",
   "execution_count": 5,
   "metadata": {},
   "outputs": [],
   "source": [
    "from dataclasses import dataclass\n",
    "from pathlib import Path\n",
    "\n",
    "\n",
    "@dataclass(frozen=True)\n",
    "class TrainingConfig:\n",
    "    root_dir: Path\n",
    "    trained_model_path: Path\n",
    "    updated_base_model_path: Path\n",
    "    training_data: Path\n",
    "    validation_data: Path\n",
    "    params_epochs: int\n",
    "    params_batch_size: int\n",
    "    params_is_augmentation: bool\n",
    "    params_image_size: list"
   ]
  },
  {
   "cell_type": "code",
   "execution_count": 6,
   "metadata": {},
   "outputs": [],
   "source": [
    "from chest_cancer_classifier.utils.common import read_yaml, create_directories\n",
    "from chest_cancer_classifier.constants import *\n",
    "\n",
    "\n",
    "class ConfigurationManager:\n",
    "    def __init__(\n",
    "        self,\n",
    "        config_filepath = CONFIG_FILE_PATH,\n",
    "        params_filepath = PARAMS_FILE_PATH\n",
    "    ):\n",
    "        self.config = read_yaml(config_filepath)\n",
    "        self.params = read_yaml(params_filepath)\n",
    "        create_directories([self.config.artifacts_root])\n",
    "\n",
    "\n",
    "    def get_training_config(self) -> TrainingConfig:\n",
    "        training = self.config.training\n",
    "        prepare_base_model = self.config.prepare_base_model\n",
    "        params = self.params\n",
    "        \n",
    "        create_directories([Path(training.root_dir)])\n",
    "\n",
    "        training_config = TrainingConfig(\n",
    "            root_dir=Path(training.root_dir),\n",
    "            trained_model_path=Path(training.trained_model_path),\n",
    "            updated_base_model_path=Path(prepare_base_model.updated_base_model_path),\n",
    "            training_data=Path(training.training_data),\n",
    "            validation_data=Path(training.validation_data),\n",
    "            params_epochs=params.EPOCHS,\n",
    "            params_batch_size=params.BATCH_SIZE,\n",
    "            params_is_augmentation=params.AUGMENTATION,\n",
    "            params_image_size=params.IMAGE_SIZE\n",
    "        )\n",
    "\n",
    "        return training_config"
   ]
  },
  {
   "cell_type": "code",
   "execution_count": 7,
   "metadata": {},
   "outputs": [],
   "source": [
    "import tensorflow as tf\n",
    "import keras \n",
    "from keras.preprocessing.image import ImageDataGenerator\n",
    "from keras.applications.vgg16 import preprocess_input\n",
    "\n",
    "\n",
    "class ModelTraining:\n",
    "    def __init__(self, config: TrainingConfig):\n",
    "        self.config = config\n",
    "\n",
    "    \n",
    "    def get_base_model(self):\n",
    "        self.model = keras.models.load_model(\n",
    "            self.config.updated_base_model_path\n",
    "        )\n",
    "\n",
    "\n",
    "    def __process(image,label):\n",
    "        image = tf.cast(image/255. , tf.float32)\n",
    "        return image,label\n",
    "\n",
    "\n",
    "    def train_valid_generator(self):\n",
    "        IMAGE_SIZE = self.config.params_image_size[:-1]\n",
    "        if self.config.params_is_augmentation:\n",
    "            data_generator_kwargs = dict(                \n",
    "                preprocessing_function = preprocess_input,\n",
    "                rotation_range=40,\n",
    "                width_shift_range=0.2,\n",
    "                height_shift_range=0.2,\n",
    "                shear_range=0.2,\n",
    "                zoom_range=0.2,\n",
    "                horizontal_flip=True,\n",
    "                fill_mode='nearest'\n",
    "            )\n",
    "            generator_kwargs = dict(\n",
    "                target_size=IMAGE_SIZE,\n",
    "                batch_size=self.config.params_batch_size,\n",
    "                class_mode='binary'\n",
    "            )\n",
    "            \n",
    "            train_datagen = ImageDataGenerator(**data_generator_kwargs)\n",
    "            self.train_generator = train_datagen.flow_from_directory(\n",
    "                self.config.training_data,\n",
    "                **generator_kwargs\n",
    "            )\n",
    "                    \n",
    "            test_datagen = ImageDataGenerator(**data_generator_kwargs)\n",
    "            self.valid_generator = test_datagen.flow_from_directory(\n",
    "                self.config.validation_data,\n",
    "                **generator_kwargs\n",
    "            )\n",
    "        else:\n",
    "            generate_kwargs = dict(\n",
    "                labels='inferred',\n",
    "                label_mode = 'int',\n",
    "                batch_size=self.config.params_batch_size,\n",
    "                image_size=IMAGE_SIZE\n",
    "            )\n",
    "            \n",
    "            self.train_generator = keras.utils.image_dataset_from_directory(\n",
    "                directory = self.config.training_data,\n",
    "                **generate_kwargs\n",
    "            )\n",
    "            self.train_generator = self.train_generator.map(preprocess_input)\n",
    "\n",
    "            self.valid_generator = keras.utils.image_dataset_from_directory(\n",
    "                directory = self.config.validation_data,\n",
    "                **generate_kwargs\n",
    "            )\n",
    "            self.valid_generator = self.valid_generator.map(preprocess_input)\n",
    "\n",
    "    \n",
    "    @staticmethod\n",
    "    def save_model(path: Path, model: keras.Model):\n",
    "        model.save(path)\n",
    "\n",
    "    \n",
    "    def train(self):\n",
    "        self.steps_per_epoch = self.train_generator.samples // self.train_generator.batch_size\n",
    "        self.validation_steps = self.valid_generator.samples // self.valid_generator.batch_size\n",
    "\n",
    "        self.model.fit(\n",
    "            self.train_generator,\n",
    "            epochs=self.config.params_epochs,\n",
    "            steps_per_epoch=self.steps_per_epoch,\n",
    "            validation_data=self.valid_generator,\n",
    "            validation_steps=self.validation_steps\n",
    "        )\n",
    "\n",
    "        self.save_model(\n",
    "            path=self.config.trained_model_path,\n",
    "            model=self.model\n",
    "        )"
   ]
  },
  {
   "cell_type": "code",
   "execution_count": 8,
   "metadata": {},
   "outputs": [
    {
     "name": "stdout",
     "output_type": "stream",
     "text": [
      "[2024-04-23 15:02:42,628: INFO: common: yaml file: config\\config.yaml loaded successfully]\n",
      "[2024-04-23 15:02:42,646: INFO: common: yaml file: params.yaml loaded successfully]\n",
      "[2024-04-23 15:02:42,652: INFO: common: created directory at: artifacts]\n",
      "[2024-04-23 15:02:42,652: INFO: common: created directory at: artifacts\\training]\n",
      "Found 343 images belonging to 2 classes.\n",
      "Found 343 images belonging to 2 classes.\n",
      "24/24 [==============================] - 241s 10s/step - loss: 19.2646 - accuracy: 0.5198 - val_loss: 0.6922 - val_accuracy: 0.5714\n"
     ]
    }
   ],
   "source": [
    "try:\n",
    "    config = ConfigurationManager()\n",
    "    training_config = config.get_training_config()\n",
    "    training = ModelTraining(config=training_config)\n",
    "    training.get_base_model()\n",
    "    training.train_valid_generator()\n",
    "    training.train()\n",
    "\n",
    "except Exception as e:\n",
    "    raise e"
   ]
  },
  {
   "cell_type": "markdown",
   "metadata": {},
   "source": [
    "---"
   ]
  }
 ],
 "metadata": {
  "kernelspec": {
   "display_name": "Python 3",
   "language": "python",
   "name": "python3"
  },
  "language_info": {
   "codemirror_mode": {
    "name": "ipython",
    "version": 3
   },
   "file_extension": ".py",
   "mimetype": "text/x-python",
   "name": "python",
   "nbconvert_exporter": "python",
   "pygments_lexer": "ipython3",
   "version": "3.11.0"
  }
 },
 "nbformat": 4,
 "nbformat_minor": 2
}
